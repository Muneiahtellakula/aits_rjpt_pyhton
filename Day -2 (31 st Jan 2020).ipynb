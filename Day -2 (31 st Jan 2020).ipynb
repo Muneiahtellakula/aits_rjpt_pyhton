{
 "cells": [
  {
   "cell_type": "code",
   "execution_count": null,
   "metadata": {},
   "outputs": [],
   "source": [
    "# Tasks:\n",
    "# 1. Check given year is Leap year or not\n",
    "   #2020-->leap year\n",
    "    #2019-->non-leap,2001-->non-leap,1900-->non-leap\n",
    "# 2.input n=0\n",
    "#   find the given input is positive or negetive or zero \n",
    "# 3.check the given number is even or odd \n",
    "# 4.input n=28\n",
    "#    if n is below 16 print the \"cool\",if n is between \n",
    "#     16-25 print \"moderate\"if n is above 25-30 print the \n",
    "#     \"Hot\"\n",
    "\n",
    "#     input:n=5\n",
    "#     output:    5 * 1 = 5\n",
    "#                5 * 2 = 10\n",
    "#                5 * 3 = 15..\n",
    "#                 ...\n",
    "#                 5 * 10 = 50"
   ]
  },
  {
   "cell_type": "code",
   "execution_count": null,
   "metadata": {},
   "outputs": [],
   "source": [
    "# 1. Check given year is Leap year or not\n",
    "#    #2020-->leap year\n",
    "#     #2019-->non-leap,2001-->non-leap,1900-->non-leap\n"
   ]
  },
  {
   "cell_type": "code",
   "execution_count": 6,
   "metadata": {},
   "outputs": [
    {
     "name": "stdout",
     "output_type": "stream",
     "text": [
      "enter a year2020\n",
      "its not a leap year \n"
     ]
    }
   ],
   "source": [
    "year =int(input(\"enter a year\"))\n",
    "if (year%4) ==0:\n",
    "    if (year%100)==0:\n",
    "        if (year%400)==0:\n",
    "            print(\"entered year is leap year\")\n",
    "        else:\n",
    "            print(\"its not a leap year\")\n",
    "    else:\n",
    "        print(\"its not a leap year \")\n",
    "else:\n",
    "    print(\"its not a leap year\")"
   ]
  },
  {
   "cell_type": "code",
   "execution_count": 10,
   "metadata": {},
   "outputs": [
    {
     "name": "stdout",
     "output_type": "stream",
     "text": [
      "Enter the year2000\n",
      "Given year is leap year\n"
     ]
    }
   ],
   "source": [
    "year=int(input(\"Enter the year\"))\n",
    "if (year%400==0 or (year%100!=0 and year% 4==0) ):\n",
    "    print(\"Given year is leap year\")\n",
    "else:\n",
    "    print(\"Non-Leap Year\")"
   ]
  },
  {
   "cell_type": "code",
   "execution_count": 11,
   "metadata": {},
   "outputs": [
    {
     "name": "stdout",
     "output_type": "stream",
     "text": [
      "['Calendar', 'EPOCH', 'FRIDAY', 'February', 'HTMLCalendar', 'IllegalMonthError', 'IllegalWeekdayError', 'January', 'LocaleHTMLCalendar', 'LocaleTextCalendar', 'MONDAY', 'SATURDAY', 'SUNDAY', 'THURSDAY', 'TUESDAY', 'TextCalendar', 'WEDNESDAY', '_EPOCH_ORD', '__all__', '__builtins__', '__cached__', '__doc__', '__file__', '__loader__', '__name__', '__package__', '__spec__', '_colwidth', '_locale', '_localized_day', '_localized_month', '_spacing', 'c', 'calendar', 'datetime', 'day_abbr', 'day_name', 'different_locale', 'error', 'firstweekday', 'format', 'formatstring', 'isleap', 'leapdays', 'main', 'mdays', 'month', 'month_abbr', 'month_name', 'monthcalendar', 'monthlen', 'monthrange', 'nextmonth', 'prcal', 'prevmonth', 'prmonth', 'prweek', 'repeat', 'setfirstweekday', 'sys', 'timegm', 'week', 'weekday', 'weekheader']\n"
     ]
    }
   ],
   "source": [
    "import calendar\n",
    "\n",
    "print(dir(calendar))"
   ]
  },
  {
   "cell_type": "code",
   "execution_count": 13,
   "metadata": {},
   "outputs": [
    {
     "data": {
      "text/plain": [
       "False"
      ]
     },
     "execution_count": 13,
     "metadata": {},
     "output_type": "execute_result"
    }
   ],
   "source": [
    "calendar.isleap(1900)"
   ]
  },
  {
   "cell_type": "code",
   "execution_count": 17,
   "metadata": {},
   "outputs": [
    {
     "name": "stdout",
     "output_type": "stream",
     "text": [
      "enter number-9\n",
      "number is negative\n"
     ]
    }
   ],
   "source": [
    "n=int(input(\"enter number\"))\n",
    "if (n==0):\n",
    "    print(\"number is 0\")\n",
    "elif(n>0):\n",
    "    print(\"number is positive\")\n",
    "else:\n",
    "    print(\"number is negative\")"
   ]
  },
  {
   "cell_type": "code",
   "execution_count": 20,
   "metadata": {},
   "outputs": [
    {
     "name": "stdout",
     "output_type": "stream",
     "text": [
      "345\n",
      "345 * 1 = 345\n",
      "345 * 2 = 690\n",
      "345 * 3 = 1035\n",
      "345 * 4 = 1380\n",
      "345 * 5 = 1725\n",
      "345 * 6 = 2070\n",
      "345 * 7 = 2415\n",
      "345 * 8 = 2760\n",
      "345 * 9 = 3105\n",
      "345 * 10 = 3450\n"
     ]
    }
   ],
   "source": [
    "#Muntiplication table\n",
    "# input:n=5\n",
    "#     output:    5 * 1 = 5\n",
    "#                5 * 2 = 10\n",
    "#                5 * 3 = 15..\n",
    "#                 ...\n",
    "#                 5 * 10 = 50\n",
    "n=int(input())\n",
    "for number in range(1,11):\n",
    "    print(n,\"*\",number,\"=\",n*number)"
   ]
  },
  {
   "cell_type": "code",
   "execution_count": 1,
   "metadata": {},
   "outputs": [
    {
     "name": "stdout",
     "output_type": "stream",
     "text": [
      "Enter the number5\n",
      "Enter the number4\n",
      "Okay,Get out \n"
     ]
    }
   ],
   "source": [
    "#while loop\n",
    "n=4\n",
    "\n",
    "while n>0:\n",
    "    n1=int(input(\"Enter the number\"))\n",
    "    if n1==n:\n",
    "        print(\"Okay,Get out \")\n",
    "        break\n",
    "        "
   ]
  },
  {
   "cell_type": "code",
   "execution_count": 4,
   "metadata": {},
   "outputs": [
    {
     "name": "stdout",
     "output_type": "stream",
     "text": [
      "1234567890\n",
      "Length of the number : 10\n"
     ]
    }
   ],
   "source": [
    "#Finding the length of the number using while loop\n",
    "number=int(input())\n",
    "c=0\n",
    "while number>0:\n",
    "    number=number//10\n",
    "    c=c+1\n",
    "print(\"Length of the number :\",c)\n",
    "    \n"
   ]
  },
  {
   "cell_type": "markdown",
   "metadata": {},
   "source": [
    "# Funtions In Python\n",
    "* A function is collction of statements \n",
    "* Predefiend Fun()\n",
    "     - Calendar,math,random,regular expression..etc\n",
    "* Userdefiend Fun()\n",
    "     - A fun() with arg() and with return value\n",
    "     - A fun() with arg() and with out return value\n",
    "     - A fun() with out arg() and with return value\n",
    "     - A fun() with out arg() and with out return value\n",
    "* Re-Usability\n",
    "\n"
   ]
  },
  {
   "cell_type": "code",
   "execution_count": null,
   "metadata": {},
   "outputs": [],
   "source": [
    "# * Userdefiend Fun()\n",
    "#      - A fun() with arg() and with return value\n",
    "def fun_name(args[]):\n",
    "    ....stms\n",
    "fun_name(args[])"
   ]
  },
  {
   "cell_type": "code",
   "execution_count": 2,
   "metadata": {},
   "outputs": [],
   "source": [
    "#To Create function check given number is prime number not\n",
    "#2,3,5,7,11,13,17,19...\n",
    "def isPrime(number):\n",
    "    if number < 2:\n",
    "        return False\n",
    "    for i in range(2,number//2+1):\n",
    "        if number%i==0:\n",
    "            return False\n",
    "    return True\n",
    "        "
   ]
  },
  {
   "cell_type": "code",
   "execution_count": 19,
   "metadata": {},
   "outputs": [
    {
     "data": {
      "text/plain": [
       "False"
      ]
     },
     "execution_count": 19,
     "metadata": {},
     "output_type": "execute_result"
    }
   ],
   "source": [
    "isPrime(36)"
   ]
  },
  {
   "cell_type": "code",
   "execution_count": 16,
   "metadata": {},
   "outputs": [
    {
     "data": {
      "text/plain": [
       "1.5"
      ]
     },
     "execution_count": 16,
     "metadata": {},
     "output_type": "execute_result"
    }
   ],
   "source": [
    "3/2"
   ]
  },
  {
   "cell_type": "code",
   "execution_count": 3,
   "metadata": {},
   "outputs": [
    {
     "name": "stdout",
     "output_type": "stream",
     "text": [
      "2 3 5 7 11 13 17 19 23 29 31 37 41 43 47 53 59 61 67 71 73 79 83 89 97 \n",
      "count is: 25\n"
     ]
    }
   ],
   "source": [
    "#Generate the 1 to 100 prime number\n",
    "lb,ub=1,101\n",
    "count=0\n",
    "for number in range(lb,ub):\n",
    "    if isPrime(number):\n",
    "        count+=1\n",
    "        print(number,end=\" \")\n",
    "print(\"\\ncount is:\",count)\n"
   ]
  },
  {
   "cell_type": "code",
   "execution_count": 20,
   "metadata": {},
   "outputs": [
    {
     "name": "stdout",
     "output_type": "stream",
     "text": [
      "3\n",
      "3\n"
     ]
    }
   ],
   "source": [
    "#- A fun() with arg() and with out return value\n",
    "def addtion(a,b):\n",
    "    print(a+b)\n",
    "a=int(input())\n",
    "b=int(input())\n"
   ]
  },
  {
   "cell_type": "code",
   "execution_count": 21,
   "metadata": {},
   "outputs": [
    {
     "name": "stdout",
     "output_type": "stream",
     "text": [
      "8\n"
     ]
    }
   ],
   "source": [
    "addtion(3,5)"
   ]
  },
  {
   "cell_type": "code",
   "execution_count": 22,
   "metadata": {},
   "outputs": [],
   "source": [
    "#- A fun() with out arg() and with return value\n",
    "def subtraction():\n",
    "    return x-y\n",
    "x=5\n",
    "y=2\n"
   ]
  },
  {
   "cell_type": "code",
   "execution_count": 23,
   "metadata": {},
   "outputs": [
    {
     "data": {
      "text/plain": [
       "3"
      ]
     },
     "execution_count": 23,
     "metadata": {},
     "output_type": "execute_result"
    }
   ],
   "source": [
    "subtraction()"
   ]
  },
  {
   "cell_type": "code",
   "execution_count": 24,
   "metadata": {},
   "outputs": [],
   "source": [
    "#- A fun() with out arg() and with out return value\n",
    "def multiplication():\n",
    "    print(x*y)\n",
    "x=2\n",
    "y=7\n"
   ]
  },
  {
   "cell_type": "code",
   "execution_count": 25,
   "metadata": {},
   "outputs": [
    {
     "name": "stdout",
     "output_type": "stream",
     "text": [
      "14\n"
     ]
    }
   ],
   "source": [
    "multiplication()"
   ]
  },
  {
   "cell_type": "markdown",
   "metadata": {},
   "source": [
    "# Inner loops\n",
    "\n",
    "- "
   ]
  },
  {
   "cell_type": "code",
   "execution_count": 33,
   "metadata": {},
   "outputs": [
    {
     "name": "stdout",
     "output_type": "stream",
     "text": [
      "01 # 03 # 05 # 07 \n",
      "\n",
      "# 09 # 11 # 13 # \n",
      "\n",
      "15 # 17 # 19 # 21 \n",
      "\n",
      "# 23 # 25 # 27 # \n",
      "\n",
      "29 # 31 \n",
      "\n"
     ]
    }
   ],
   "source": [
    "day=1\n",
    "for r in range(5):\n",
    "    for c in range(7):\n",
    "        if day>31:\n",
    "            break\n",
    "        else:\n",
    "            if day%2==0:\n",
    "                print(\"#\",end=\" \")\n",
    "                day+=1\n",
    "            else:\n",
    "                print(\"%02d\"%day,end=\" \")\n",
    "                day+=1\n",
    "        \n",
    "    print(\"\\n\")\n",
    "   \n",
    "        "
   ]
  },
  {
   "cell_type": "markdown",
   "metadata": {},
   "source": [
    "## FORMAT\n",
    "- \"string{}\".format(data)\n"
   ]
  },
  {
   "cell_type": "code",
   "execution_count": 34,
   "metadata": {
    "collapsed": true
   },
   "outputs": [
    {
     "name": "stdout",
     "output_type": "stream",
     "text": [
      "18701A0401\n",
      "18701A0402\n",
      "18701A0403\n",
      "18701A0404\n",
      "18701A0405\n",
      "18701A0406\n",
      "18701A0407\n",
      "18701A0408\n",
      "18701A0409\n",
      "18701A0410\n",
      "18701A0411\n",
      "18701A0412\n",
      "18701A0413\n",
      "18701A0414\n",
      "18701A0415\n",
      "18701A0416\n",
      "18701A0417\n",
      "18701A0418\n",
      "18701A0419\n",
      "18701A0420\n",
      "18701A0421\n",
      "18701A0422\n",
      "18701A0423\n",
      "18701A0424\n",
      "18701A0425\n",
      "18701A0426\n",
      "18701A0427\n",
      "18701A0428\n",
      "18701A0429\n",
      "18701A0430\n",
      "18701A0431\n",
      "18701A0432\n",
      "18701A0433\n",
      "18701A0434\n",
      "18701A0435\n",
      "18701A0436\n",
      "18701A0437\n",
      "18701A0438\n",
      "18701A0439\n",
      "18701A0440\n",
      "18701A0441\n",
      "18701A0442\n",
      "18701A0443\n",
      "18701A0444\n",
      "18701A0445\n",
      "18701A0446\n",
      "18701A0447\n",
      "18701A0448\n",
      "18701A0449\n",
      "18701A0450\n",
      "18701A0451\n",
      "18701A0452\n",
      "18701A0453\n",
      "18701A0454\n",
      "18701A0455\n",
      "18701A0456\n",
      "18701A0457\n",
      "18701A0458\n",
      "18701A0459\n",
      "18701A0460\n",
      "18701A0461\n",
      "18701A0462\n",
      "18701A0463\n",
      "18701A0464\n",
      "18701A0465\n",
      "18701A0466\n",
      "18701A0467\n",
      "18701A0468\n",
      "18701A0469\n",
      "18701A0470\n",
      "18701A0471\n",
      "18701A0472\n",
      "18701A0473\n",
      "18701A0474\n",
      "18701A0475\n",
      "18701A0476\n",
      "18701A0477\n",
      "18701A0478\n",
      "18701A0479\n",
      "18701A0480\n",
      "18701A0481\n",
      "18701A0482\n",
      "18701A0483\n",
      "18701A0484\n",
      "18701A0485\n",
      "18701A0486\n",
      "18701A0487\n",
      "18701A0488\n",
      "18701A0489\n",
      "18701A0490\n",
      "18701A0491\n",
      "18701A0492\n",
      "18701A0493\n",
      "18701A0494\n",
      "18701A0495\n",
      "18701A0496\n",
      "18701A0497\n",
      "18701A0498\n",
      "18701A0499\n",
      "18701A04100\n",
      "18701A04101\n",
      "18701A04102\n",
      "18701A04103\n",
      "18701A04104\n",
      "18701A04105\n",
      "18701A04106\n",
      "18701A04107\n",
      "18701A04108\n",
      "18701A04109\n",
      "18701A04110\n",
      "18701A04111\n",
      "18701A04112\n",
      "18701A04113\n",
      "18701A04114\n",
      "18701A04115\n",
      "18701A04116\n",
      "18701A04117\n",
      "18701A04118\n",
      "18701A04119\n",
      "18701A04120\n",
      "18701A04121\n",
      "18701A04122\n",
      "18701A04123\n",
      "18701A04124\n",
      "18701A04125\n",
      "18701A04126\n",
      "18701A04127\n",
      "18701A04128\n",
      "18701A04129\n",
      "18701A04130\n",
      "18701A04131\n",
      "18701A04132\n",
      "18701A04133\n",
      "18701A04134\n",
      "18701A04135\n",
      "18701A04136\n",
      "18701A04137\n",
      "18701A04138\n",
      "18701A04139\n",
      "18701A04140\n",
      "18701A04141\n",
      "18701A04142\n",
      "18701A04143\n",
      "18701A04144\n",
      "18701A04145\n",
      "18701A04146\n",
      "18701A04147\n",
      "18701A04148\n",
      "18701A04149\n",
      "18701A04150\n",
      "18701A04151\n",
      "18701A04152\n",
      "18701A04153\n",
      "18701A04154\n",
      "18701A04155\n",
      "18701A04156\n",
      "18701A04157\n",
      "18701A04158\n",
      "18701A04159\n",
      "18701A04160\n",
      "18701A04161\n",
      "18701A04162\n",
      "18701A04163\n",
      "18701A04164\n",
      "18701A04165\n",
      "18701A04166\n",
      "18701A04167\n",
      "18701A04168\n",
      "18701A04169\n",
      "18701A04170\n",
      "18701A04171\n",
      "18701A04172\n",
      "18701A04173\n",
      "18701A04174\n",
      "18701A04175\n",
      "18701A04176\n",
      "18701A04177\n",
      "18701A04178\n",
      "18701A04179\n",
      "18701A04180\n",
      "18701A04181\n",
      "18701A04182\n",
      "18701A04183\n",
      "18701A04184\n",
      "18701A04185\n",
      "18701A04186\n",
      "18701A04187\n",
      "18701A04188\n",
      "18701A04189\n",
      "18701A04190\n",
      "18701A04191\n",
      "18701A04192\n",
      "18701A04193\n",
      "18701A04194\n",
      "18701A04195\n",
      "18701A04196\n",
      "18701A04197\n",
      "18701A04198\n",
      "18701A04199\n",
      "18701A04200\n",
      "18701A04201\n",
      "18701A04202\n",
      "18701A04203\n",
      "18701A04204\n",
      "18701A04205\n",
      "18701A04206\n",
      "18701A04207\n",
      "18701A04208\n",
      "18701A04209\n",
      "18701A04210\n",
      "18701A04211\n",
      "18701A04212\n",
      "18701A04213\n",
      "18701A04214\n",
      "18701A04215\n",
      "18701A04216\n",
      "18701A04217\n",
      "18701A04218\n",
      "18701A04219\n",
      "18701A04220\n",
      "18701A04221\n",
      "18701A04222\n",
      "18701A04223\n",
      "18701A04224\n",
      "18701A04225\n",
      "18701A04226\n",
      "18701A04227\n",
      "18701A04228\n",
      "18701A04229\n",
      "18701A04230\n",
      "18701A04231\n",
      "18701A04232\n",
      "18701A04233\n",
      "18701A04234\n",
      "18701A04235\n",
      "18701A04236\n",
      "18701A04237\n",
      "18701A04238\n",
      "18701A04239\n",
      "18701A04240\n",
      "18701A04241\n",
      "18701A04242\n",
      "18701A04243\n",
      "18701A04244\n",
      "18701A04245\n",
      "18701A04246\n",
      "18701A04247\n",
      "18701A04248\n",
      "18701A04249\n",
      "18701A04250\n",
      "18701A04251\n",
      "18701A04252\n",
      "18701A04253\n",
      "18701A04254\n",
      "18701A04255\n",
      "18701A04256\n",
      "18701A04257\n",
      "18701A04258\n",
      "18701A04259\n",
      "18701A04260\n",
      "18701A04261\n",
      "18701A04262\n",
      "18701A04263\n",
      "18701A04264\n",
      "18701A04265\n",
      "18701A04266\n",
      "18701A04267\n",
      "18701A04268\n",
      "18701A04269\n",
      "18701A04270\n",
      "18701A04271\n",
      "18701A04272\n",
      "18701A04273\n",
      "18701A04274\n",
      "18701A04275\n",
      "18701A04276\n",
      "18701A04277\n",
      "18701A04278\n",
      "18701A04279\n",
      "18701A04280\n",
      "18701A04281\n",
      "18701A04282\n",
      "18701A04283\n",
      "18701A04284\n",
      "18701A04285\n",
      "18701A04286\n",
      "18701A04287\n",
      "18701A04288\n",
      "18701A04289\n",
      "18701A04290\n",
      "18701A04291\n",
      "18701A04292\n",
      "18701A04293\n",
      "18701A04294\n",
      "18701A04295\n",
      "18701A04296\n",
      "18701A04297\n",
      "18701A04298\n",
      "18701A04299\n",
      "18701A04300\n",
      "18701A04301\n",
      "18701A04302\n",
      "18701A04303\n",
      "18701A04304\n",
      "18701A04305\n",
      "18701A04306\n",
      "18701A04307\n",
      "18701A04308\n",
      "18701A04309\n",
      "18701A04310\n",
      "18701A04311\n",
      "18701A04312\n",
      "18701A04313\n",
      "18701A04314\n",
      "18701A04315\n",
      "18701A04316\n",
      "18701A04317\n",
      "18701A04318\n",
      "18701A04319\n",
      "18701A04320\n",
      "18701A04321\n",
      "18701A04322\n",
      "18701A04323\n",
      "18701A04324\n",
      "18701A04325\n",
      "18701A04326\n",
      "18701A04327\n",
      "18701A04328\n",
      "18701A04329\n",
      "18701A04330\n",
      "18701A04331\n",
      "18701A04332\n",
      "18701A04333\n",
      "18701A04334\n",
      "18701A04335\n",
      "18701A04336\n",
      "18701A04337\n",
      "18701A04338\n",
      "18701A04339\n",
      "18701A04340\n",
      "18701A04341\n",
      "18701A04342\n",
      "18701A04343\n",
      "18701A04344\n",
      "18701A04345\n",
      "18701A04346\n",
      "18701A04347\n",
      "18701A04348\n",
      "18701A04349\n",
      "18701A04350\n",
      "18701A04351\n",
      "18701A04352\n",
      "18701A04353\n",
      "18701A04354\n",
      "18701A04355\n",
      "18701A04356\n",
      "18701A04357\n",
      "18701A04358\n",
      "18701A04359\n",
      "18701A04360\n",
      "18701A04361\n",
      "18701A04362\n",
      "18701A04363\n",
      "18701A04364\n",
      "18701A04365\n",
      "18701A04366\n",
      "18701A04367\n",
      "18701A04368\n",
      "18701A04369\n",
      "18701A04370\n",
      "18701A04371\n",
      "18701A04372\n",
      "18701A04373\n",
      "18701A04374\n",
      "18701A04375\n",
      "18701A04376\n",
      "18701A04377\n",
      "18701A04378\n",
      "18701A04379\n",
      "18701A04380\n",
      "18701A04381\n",
      "18701A04382\n",
      "18701A04383\n",
      "18701A04384\n",
      "18701A04385\n",
      "18701A04386\n",
      "18701A04387\n",
      "18701A04388\n",
      "18701A04389\n",
      "18701A04390\n",
      "18701A04391\n",
      "18701A04392\n",
      "18701A04393\n",
      "18701A04394\n",
      "18701A04395\n",
      "18701A04396\n",
      "18701A04397\n",
      "18701A04398\n",
      "18701A04399\n",
      "18701A04400\n",
      "18701A04401\n",
      "18701A04402\n",
      "18701A04403\n",
      "18701A04404\n",
      "18701A04405\n",
      "18701A04406\n",
      "18701A04407\n",
      "18701A04408\n",
      "18701A04409\n",
      "18701A04410\n",
      "18701A04411\n",
      "18701A04412\n",
      "18701A04413\n",
      "18701A04414\n",
      "18701A04415\n",
      "18701A04416\n",
      "18701A04417\n",
      "18701A04418\n",
      "18701A04419\n",
      "18701A04420\n",
      "18701A04421\n",
      "18701A04422\n",
      "18701A04423\n",
      "18701A04424\n",
      "18701A04425\n",
      "18701A04426\n",
      "18701A04427\n",
      "18701A04428\n",
      "18701A04429\n",
      "18701A04430\n",
      "18701A04431\n",
      "18701A04432\n",
      "18701A04433\n",
      "18701A04434\n",
      "18701A04435\n",
      "18701A04436\n",
      "18701A04437\n",
      "18701A04438\n",
      "18701A04439\n",
      "18701A04440\n",
      "18701A04441\n",
      "18701A04442\n",
      "18701A04443\n",
      "18701A04444\n",
      "18701A04445\n",
      "18701A04446\n",
      "18701A04447\n",
      "18701A04448\n",
      "18701A04449\n",
      "18701A04450\n",
      "18701A04451\n",
      "18701A04452\n",
      "18701A04453\n",
      "18701A04454\n",
      "18701A04455\n",
      "18701A04456\n",
      "18701A04457\n",
      "18701A04458\n",
      "18701A04459\n",
      "18701A04460\n"
     ]
    }
   ],
   "source": [
    "s=\"18701A04%02d\"\n",
    "for roll in range(1,461):\n",
    "    print(s%roll)\n",
    "    \n",
    "\n"
   ]
  },
  {
   "cell_type": "code",
   "execution_count": 39,
   "metadata": {
    "collapsed": true
   },
   "outputs": [
    {
     "name": "stdout",
     "output_type": "stream",
     "text": [
      "18701A0401\n",
      "18701A0402\n",
      "18701A0403\n",
      "18701A0404\n",
      "18701A0405\n",
      "18701A0406\n",
      "18701A0407\n",
      "18701A0408\n",
      "18701A0409\n",
      "18701A0410\n",
      "18701A0411\n",
      "18701A0412\n",
      "18701A0413\n",
      "18701A0414\n",
      "18701A0415\n",
      "18701A0416\n",
      "18701A0417\n",
      "18701A0418\n",
      "18701A0419\n",
      "18701A0420\n",
      "18701A0421\n",
      "18701A0422\n",
      "18701A0423\n",
      "18701A0424\n",
      "18701A0425\n",
      "18701A0426\n",
      "18701A0427\n",
      "18701A0428\n",
      "18701A0429\n",
      "18701A0430\n",
      "18701A0431\n",
      "18701A0432\n",
      "18701A0433\n",
      "18701A0434\n",
      "18701A0435\n",
      "18701A0436\n",
      "18701A0437\n",
      "18701A0438\n",
      "18701A0439\n",
      "18701A0440\n",
      "18701A0441\n",
      "18701A0442\n",
      "18701A0443\n",
      "18701A0444\n",
      "18701A0445\n",
      "18701A0446\n",
      "18701A0447\n",
      "18701A0448\n",
      "18701A0449\n",
      "18701A0450\n",
      "18701A0451\n",
      "18701A0452\n",
      "18701A0453\n",
      "18701A0454\n",
      "18701A0455\n",
      "18701A0456\n",
      "18701A0457\n",
      "18701A0458\n",
      "18701A0459\n",
      "18701A0460\n"
     ]
    }
   ],
   "source": [
    "s=\"18701A04{:02d}\"\n",
    "for roll in range(1,61):\n",
    "    if\n",
    "    print(s.format(roll))"
   ]
  },
  {
   "cell_type": "markdown",
   "metadata": {},
   "source": [
    "# Strings \n",
    "* It is a data type of python\n",
    "* It is collections of char set\n",
    "* like:any digit,alpha,spl.char..etc\n",
    "* Its short form is str\n",
    "* it reprsented by single or dobule cots\n",
    "* +tive index and -tive index\n",
    "* Immutable (don't change)"
   ]
  },
  {
   "cell_type": "code",
   "execution_count": 41,
   "metadata": {},
   "outputs": [
    {
     "name": "stdout",
     "output_type": "stream",
     "text": [
      "<class 'str'>\n"
     ]
    },
    {
     "data": {
      "text/plain": [
       "'hello apssdc'"
      ]
     },
     "execution_count": 41,
     "metadata": {},
     "output_type": "execute_result"
    }
   ],
   "source": [
    "s='hello apssdc'\n",
    "print(type(s))\n",
    "s"
   ]
  },
  {
   "cell_type": "code",
   "execution_count": 42,
   "metadata": {},
   "outputs": [
    {
     "data": {
      "text/plain": [
       "12"
      ]
     },
     "execution_count": 42,
     "metadata": {},
     "output_type": "execute_result"
    }
   ],
   "source": [
    "len(s)#Get the Length of the string "
   ]
  },
  {
   "cell_type": "markdown",
   "metadata": {},
   "source": [
    "# String Slicing and Indexing\n"
   ]
  },
  {
   "cell_type": "code",
   "execution_count": 43,
   "metadata": {},
   "outputs": [
    {
     "data": {
      "text/plain": [
       "'h'"
      ]
     },
     "execution_count": 43,
     "metadata": {},
     "output_type": "execute_result"
    }
   ],
   "source": [
    "s[0]#0th index"
   ]
  },
  {
   "cell_type": "code",
   "execution_count": 44,
   "metadata": {},
   "outputs": [
    {
     "data": {
      "text/plain": [
       "'a'"
      ]
     },
     "execution_count": 44,
     "metadata": {},
     "output_type": "execute_result"
    }
   ],
   "source": [
    "s[6]"
   ]
  },
  {
   "cell_type": "code",
   "execution_count": 45,
   "metadata": {},
   "outputs": [
    {
     "data": {
      "text/plain": [
       "'c'"
      ]
     },
     "execution_count": 45,
     "metadata": {},
     "output_type": "execute_result"
    }
   ],
   "source": [
    "s[-1]"
   ]
  },
  {
   "cell_type": "code",
   "execution_count": 51,
   "metadata": {},
   "outputs": [
    {
     "data": {
      "text/plain": [
       "'hello apssdc'"
      ]
     },
     "execution_count": 51,
     "metadata": {},
     "output_type": "execute_result"
    }
   ],
   "source": [
    "s[-12]\n",
    "s"
   ]
  },
  {
   "cell_type": "code",
   "execution_count": 48,
   "metadata": {},
   "outputs": [
    {
     "data": {
      "text/plain": [
       "'hello'"
      ]
     },
     "execution_count": 48,
     "metadata": {},
     "output_type": "execute_result"
    }
   ],
   "source": [
    "s[0:5]"
   ]
  },
  {
   "cell_type": "code",
   "execution_count": 53,
   "metadata": {},
   "outputs": [
    {
     "data": {
      "text/plain": [
       "'apssdc'"
      ]
     },
     "execution_count": 53,
     "metadata": {},
     "output_type": "execute_result"
    }
   ],
   "source": [
    "s[6:12]"
   ]
  },
  {
   "cell_type": "code",
   "execution_count": 59,
   "metadata": {},
   "outputs": [
    {
     "data": {
      "text/plain": [
       "'cdsspa olleh'"
      ]
     },
     "execution_count": 59,
     "metadata": {},
     "output_type": "execute_result"
    }
   ],
   "source": [
    "s[::-1]"
   ]
  },
  {
   "cell_type": "code",
   "execution_count": 60,
   "metadata": {},
   "outputs": [
    {
     "data": {
      "text/plain": [
       "'llo apssdc'"
      ]
     },
     "execution_count": 60,
     "metadata": {},
     "output_type": "execute_result"
    }
   ],
   "source": [
    "s[2:]"
   ]
  },
  {
   "cell_type": "code",
   "execution_count": 61,
   "metadata": {},
   "outputs": [
    {
     "data": {
      "text/plain": [
       "'he'"
      ]
     },
     "execution_count": 61,
     "metadata": {},
     "output_type": "execute_result"
    }
   ],
   "source": [
    "s[:2]"
   ]
  },
  {
   "cell_type": "code",
   "execution_count": 62,
   "metadata": {},
   "outputs": [
    {
     "data": {
      "text/plain": [
       "'hello apss'"
      ]
     },
     "execution_count": 62,
     "metadata": {},
     "output_type": "execute_result"
    }
   ],
   "source": [
    "s[:-2]"
   ]
  },
  {
   "cell_type": "code",
   "execution_count": 65,
   "metadata": {},
   "outputs": [
    {
     "data": {
      "text/plain": [
       "'hloasd'"
      ]
     },
     "execution_count": 65,
     "metadata": {},
     "output_type": "execute_result"
    }
   ],
   "source": [
    "s[::2]#single char step count"
   ]
  },
  {
   "cell_type": "code",
   "execution_count": 71,
   "metadata": {},
   "outputs": [
    {
     "data": {
      "text/plain": [
       "'cd'"
      ]
     },
     "execution_count": 71,
     "metadata": {},
     "output_type": "execute_result"
    }
   ],
   "source": [
    "s1=s[-2::]\n",
    "s1[::-1]"
   ]
  },
  {
   "cell_type": "code",
   "execution_count": 76,
   "metadata": {},
   "outputs": [
    {
     "data": {
      "text/plain": [
       "'cd'"
      ]
     },
     "execution_count": 76,
     "metadata": {},
     "output_type": "execute_result"
    }
   ],
   "source": [
    "s[-1:-3:-1]"
   ]
  },
  {
   "cell_type": "code",
   "execution_count": 77,
   "metadata": {},
   "outputs": [
    {
     "name": "stdout",
     "output_type": "stream",
     "text": [
      "['__add__', '__class__', '__contains__', '__delattr__', '__dir__', '__doc__', '__eq__', '__format__', '__ge__', '__getattribute__', '__getitem__', '__getnewargs__', '__gt__', '__hash__', '__init__', '__init_subclass__', '__iter__', '__le__', '__len__', '__lt__', '__mod__', '__mul__', '__ne__', '__new__', '__reduce__', '__reduce_ex__', '__repr__', '__rmod__', '__rmul__', '__setattr__', '__sizeof__', '__str__', '__subclasshook__', 'capitalize', 'casefold', 'center', 'count', 'encode', 'endswith', 'expandtabs', 'find', 'format', 'format_map', 'index', 'isalnum', 'isalpha', 'isascii', 'isdecimal', 'isdigit', 'isidentifier', 'islower', 'isnumeric', 'isprintable', 'isspace', 'istitle', 'isupper', 'join', 'ljust', 'lower', 'lstrip', 'maketrans', 'partition', 'replace', 'rfind', 'rindex', 'rjust', 'rpartition', 'rsplit', 'rstrip', 'split', 'splitlines', 'startswith', 'strip', 'swapcase', 'title', 'translate', 'upper', 'zfill']\n"
     ]
    }
   ],
   "source": [
    "print(dir(str))"
   ]
  },
  {
   "cell_type": "code",
   "execution_count": 1,
   "metadata": {},
   "outputs": [
    {
     "data": {
      "text/plain": [
       "'Python programming'"
      ]
     },
     "execution_count": 1,
     "metadata": {},
     "output_type": "execute_result"
    }
   ],
   "source": [
    "s1=\"python programming\"\n",
    "s1.capitalize()"
   ]
  },
  {
   "cell_type": "code",
   "execution_count": 2,
   "metadata": {},
   "outputs": [
    {
     "data": {
      "text/plain": [
       "True"
      ]
     },
     "execution_count": 2,
     "metadata": {},
     "output_type": "execute_result"
    }
   ],
   "source": [
    "s1.islower()"
   ]
  },
  {
   "cell_type": "code",
   "execution_count": 3,
   "metadata": {},
   "outputs": [
    {
     "data": {
      "text/plain": [
       "False"
      ]
     },
     "execution_count": 3,
     "metadata": {},
     "output_type": "execute_result"
    }
   ],
   "source": [
    "s1.isupper()"
   ]
  },
  {
   "cell_type": "code",
   "execution_count": 4,
   "metadata": {},
   "outputs": [
    {
     "data": {
      "text/plain": [
       "'hELLO wORLD'"
      ]
     },
     "execution_count": 4,
     "metadata": {},
     "output_type": "execute_result"
    }
   ],
   "source": [
    "ns=\"Hello World\"\n",
    "ns.swapcase()"
   ]
  },
  {
   "cell_type": "code",
   "execution_count": 5,
   "metadata": {},
   "outputs": [
    {
     "data": {
      "text/plain": [
       "'Hello World'"
      ]
     },
     "execution_count": 5,
     "metadata": {},
     "output_type": "execute_result"
    }
   ],
   "source": [
    "ns"
   ]
  },
  {
   "cell_type": "code",
   "execution_count": 6,
   "metadata": {},
   "outputs": [
    {
     "name": "stdout",
     "output_type": "stream",
     "text": [
      "Helo Wrd\n"
     ]
    }
   ],
   "source": [
    "#Getting Unique Values from given string\n",
    "uniq=''\n",
    "for char in ns:\n",
    "    if char not in uniq:\n",
    "        uniq=uniq+char\n",
    "print(uniq)\n",
    "    "
   ]
  },
  {
   "cell_type": "code",
   "execution_count": 7,
   "metadata": {},
   "outputs": [
    {
     "data": {
      "text/plain": [
       "'Hello World'"
      ]
     },
     "execution_count": 7,
     "metadata": {},
     "output_type": "execute_result"
    }
   ],
   "source": [
    "ns"
   ]
  },
  {
   "cell_type": "code",
   "execution_count": 8,
   "metadata": {},
   "outputs": [
    {
     "name": "stdout",
     "output_type": "stream",
     "text": [
      "1 --> H\n",
      "2 --> e\n",
      "3 --> l\n",
      "4 --> l\n",
      "5 --> o\n",
      "6 -->  \n",
      "7 --> w\n",
      "8 --> o\n",
      "9 --> r\n",
      "10 --> l\n",
      "11 --> d\n",
      "12 -->  \n"
     ]
    }
   ],
   "source": [
    "c=0\n",
    "for char in \"Hello world \":\n",
    "    c=c+1\n",
    "    print(c,\"-->\",char)"
   ]
  },
  {
   "cell_type": "code",
   "execution_count": 10,
   "metadata": {},
   "outputs": [
    {
     "data": {
      "text/plain": [
       "'aits '"
      ]
     },
     "execution_count": 10,
     "metadata": {},
     "output_type": "execute_result"
    }
   ],
   "source": [
    "s2=' aits '\n",
    "s2.lstrip()"
   ]
  },
  {
   "cell_type": "code",
   "execution_count": 11,
   "metadata": {},
   "outputs": [
    {
     "data": {
      "text/plain": [
       "' aits'"
      ]
     },
     "execution_count": 11,
     "metadata": {},
     "output_type": "execute_result"
    }
   ],
   "source": [
    "s2.rstrip()"
   ]
  },
  {
   "cell_type": "code",
   "execution_count": 12,
   "metadata": {},
   "outputs": [
    {
     "data": {
      "text/plain": [
       "'aits'"
      ]
     },
     "execution_count": 12,
     "metadata": {},
     "output_type": "execute_result"
    }
   ],
   "source": [
    "s2.strip()"
   ]
  },
  {
   "cell_type": "code",
   "execution_count": 13,
   "metadata": {},
   "outputs": [
    {
     "name": "stdout",
     "output_type": "stream",
     "text": [
      "Alpha Char 28\n",
      "Digits 5\n",
      "Special Char 7\n"
     ]
    }
   ],
   "source": [
    "n=\"we1are2learing3pyhon4programming5^&%%&^%\"\n",
    "al=''\n",
    "dig=''\n",
    "splc=''\n",
    "for ever_char in n:\n",
    "    if ever_char.isalpha():\n",
    "        al=al+ever_char\n",
    "    elif ever_char.isdigit():\n",
    "        dig=dig+ever_char\n",
    "    else:\n",
    "        splc=splc+ever_char\n",
    "print(\"Alpha Char\",len(al))\n",
    "print(\"Digits\",len(dig))\n",
    "print(\"Special Char\",len(splc))\n",
    "        \n",
    "    "
   ]
  },
  {
   "cell_type": "code",
   "execution_count": 19,
   "metadata": {},
   "outputs": [
    {
     "name": "stdout",
     "output_type": "stream",
     "text": [
      "Enter the string :nun\n",
      "Palindrome\n"
     ]
    }
   ],
   "source": [
    "# Chechk the given string is pandrom or not\n",
    "sn=input(\"Enter the string :\")\n",
    "if sn==sn[::-1]:\n",
    "    print(\"Palindrome\")\n",
    "else:\n",
    "    print(\"No\")"
   ]
  },
  {
   "cell_type": "code",
   "execution_count": 20,
   "metadata": {},
   "outputs": [
    {
     "name": "stdout",
     "output_type": "stream",
     "text": [
      "small letters are: 15\n",
      "Cap letters are: 7\n"
     ]
    }
   ],
   "source": [
    "#Task\n",
    "# 1.Count the Capital case letters and Small Case letters\n",
    "st='HelloStudentsHowAREyoU'\n",
    "small_letter=''\n",
    "caps=''\n",
    "for c in st:\n",
    "    if c.islower():\n",
    "        small_letter=small_letter+c\n",
    "    else:\n",
    "        caps=caps+c\n",
    "print(\"small letters are:\",len(small_letter))\n",
    "print(\"Cap letters are:\",len(caps))\n",
    "        "
   ]
  },
  {
   "cell_type": "markdown",
   "metadata": {},
   "source": [
    "# Python Data Stracture\n",
    "* List\n",
    "    * It is a collection of elements or datadet \n",
    "       - char,spl chars,numbr/digits...etc\n",
    "    * It Contains Duplicate data set\n",
    "    * It is Mutable(we can modify the list of elements)\n",
    "    * It is also data type in python lang...\n",
    "    * Data type reprasented by squre braces like []\n",
    "    * We can access the data by indexing / Slicing\n",
    "    \n",
    "* Tuple\n",
    "* Sets\n",
    "* Dictionarires\n",
    "\n",
    "\n",
    "\n",
    "\n",
    "\n",
    "\n"
   ]
  },
  {
   "cell_type": "code",
   "execution_count": 21,
   "metadata": {},
   "outputs": [
    {
     "data": {
      "text/plain": [
       "[1, 8, 4, 1, 9]"
      ]
     },
     "execution_count": 21,
     "metadata": {},
     "output_type": "execute_result"
    }
   ],
   "source": [
    "Li=[1,8,4,1,9]\n",
    "Li"
   ]
  },
  {
   "cell_type": "code",
   "execution_count": 24,
   "metadata": {},
   "outputs": [
    {
     "name": "stdout",
     "output_type": "stream",
     "text": [
      "['__add__', '__class__', '__contains__', '__delattr__', '__delitem__', '__dir__', '__doc__', '__eq__', '__format__', '__ge__', '__getattribute__', '__getitem__', '__gt__', '__hash__', '__iadd__', '__imul__', '__init__', '__init_subclass__', '__iter__', '__le__', '__len__', '__lt__', '__mul__', '__ne__', '__new__', '__reduce__', '__reduce_ex__', '__repr__', '__reversed__', '__rmul__', '__setattr__', '__setitem__', '__sizeof__', '__str__', '__subclasshook__', 'append', 'clear', 'copy', 'count', 'extend', 'index', 'insert', 'pop', 'remove', 'reverse', 'sort']\n"
     ]
    }
   ],
   "source": [
    "print(dir(Li))"
   ]
  },
  {
   "cell_type": "code",
   "execution_count": 26,
   "metadata": {},
   "outputs": [
    {
     "data": {
      "text/plain": [
       "[1, 1, 4, 8, 9]"
      ]
     },
     "execution_count": 26,
     "metadata": {},
     "output_type": "execute_result"
    }
   ],
   "source": [
    "Li.sort()#For sorting the elements in the list\n",
    "Li"
   ]
  },
  {
   "cell_type": "code",
   "execution_count": 27,
   "metadata": {},
   "outputs": [
    {
     "data": {
      "text/plain": [
       "[1, 1, 4, 8, 9]"
      ]
     },
     "execution_count": 27,
     "metadata": {},
     "output_type": "execute_result"
    }
   ],
   "source": [
    "sorted(Li)#this is also for sorting"
   ]
  },
  {
   "cell_type": "code",
   "execution_count": 28,
   "metadata": {},
   "outputs": [],
   "source": [
    "#For adding the elenets to list\n",
    "Li.append(10)"
   ]
  },
  {
   "cell_type": "code",
   "execution_count": 30,
   "metadata": {},
   "outputs": [],
   "source": [
    "Li.append(2)"
   ]
  },
  {
   "cell_type": "code",
   "execution_count": 31,
   "metadata": {},
   "outputs": [
    {
     "data": {
      "text/plain": [
       "[1, 1, 4, 8, 9, 10, 2]"
      ]
     },
     "execution_count": 31,
     "metadata": {},
     "output_type": "execute_result"
    }
   ],
   "source": [
    "Li"
   ]
  },
  {
   "cell_type": "code",
   "execution_count": 32,
   "metadata": {},
   "outputs": [
    {
     "data": {
      "text/plain": [
       "2"
      ]
     },
     "execution_count": 32,
     "metadata": {},
     "output_type": "execute_result"
    }
   ],
   "source": [
    "#Removing the elents from the list\n",
    "Li.pop()#it will removes the last element from the list"
   ]
  },
  {
   "cell_type": "code",
   "execution_count": 33,
   "metadata": {},
   "outputs": [],
   "source": [
    "Li.remove(4)#removing the paticular element"
   ]
  },
  {
   "cell_type": "code",
   "execution_count": 38,
   "metadata": {},
   "outputs": [
    {
     "name": "stdout",
     "output_type": "stream",
     "text": [
      "Max value: 10\n",
      "Min value: 1\n",
      "sum value: 29\n",
      "Avg value: 5\n"
     ]
    }
   ],
   "source": [
    "print(\"Max value:\",max(Li))\n",
    "print(\"Min value:\",min(Li))\n",
    "print(\"sum value:\",sum(Li))\n",
    "print(\"Avg value:\",sum(Li)//len(Li))"
   ]
  },
  {
   "cell_type": "code",
   "execution_count": 39,
   "metadata": {},
   "outputs": [
    {
     "data": {
      "text/plain": [
       "[1, 1, 8, 9, 10, 1, 1, 8, 9, 10, 1, 1, 8, 9, 10]"
      ]
     },
     "execution_count": 39,
     "metadata": {},
     "output_type": "execute_result"
    }
   ],
   "source": [
    "Li*3#This the repeating but multiplying"
   ]
  },
  {
   "cell_type": "code",
   "execution_count": 42,
   "metadata": {},
   "outputs": [
    {
     "name": "stdout",
     "output_type": "stream",
     "text": [
      "3 3 24 27 30 "
     ]
    }
   ],
   "source": [
    "#Multply with 3 each list of element\n",
    "for element in range(len(Li)):\n",
    "    print(Li[element]*3,end=\" \")"
   ]
  },
  {
   "cell_type": "code",
   "execution_count": 48,
   "metadata": {},
   "outputs": [
    {
     "name": "stdout",
     "output_type": "stream",
     "text": [
      "['bheema', 'lakshmana', 'rama', 'sita', 'siva']\n",
      "['siva', 'sita', 'rama', 'lakshmana', 'bheema']\n"
     ]
    }
   ],
   "source": [
    "names=['rama','sita','siva','bheema','lakshmana']\n",
    "print(sorted(names))#sorting in assending\n",
    "print(sorted(names,reverse=True))"
   ]
  },
  {
   "cell_type": "code",
   "execution_count": 44,
   "metadata": {},
   "outputs": [
    {
     "data": {
      "text/plain": [
       "'bheema'"
      ]
     },
     "execution_count": 44,
     "metadata": {},
     "output_type": "execute_result"
    }
   ],
   "source": [
    "names[3]#Indexing"
   ]
  },
  {
   "cell_type": "code",
   "execution_count": 45,
   "metadata": {},
   "outputs": [
    {
     "data": {
      "text/plain": [
       "['siva', 'bheema', 'lakshmana']"
      ]
     },
     "execution_count": 45,
     "metadata": {},
     "output_type": "execute_result"
    }
   ],
   "source": [
    "names[2:]#Slicing"
   ]
  },
  {
   "cell_type": "code",
   "execution_count": 49,
   "metadata": {},
   "outputs": [
    {
     "data": {
      "text/plain": [
       "['lakshminarshiha', 'radhakrisha', 'sai', 'sitarama', 'sivaparvathi']"
      ]
     },
     "execution_count": 49,
     "metadata": {},
     "output_type": "execute_result"
    }
   ],
   "source": [
    "#Task \n",
    "1.s=['sitarama','sivaparvathi','lakshminarshiha','radhakrisha','sai']\n",
    "2.mystring='cse4ece3eee2it1'\n",
    "        output:csecsecsecse\n",
    "               eceeceece\n",
    "               eeeeee\n",
    "                it\n",
    "3.Find the first 10 natural numbers Avarage ,Sum and count"
   ]
  },
  {
   "cell_type": "code",
   "execution_count": 51,
   "metadata": {},
   "outputs": [
    {
     "data": {
      "text/plain": [
       "['i', 'am', 'good', 'boy']"
      ]
     },
     "execution_count": 51,
     "metadata": {},
     "output_type": "execute_result"
    }
   ],
   "source": [
    "b=\"i am good boy\"\n",
    "b.split()"
   ]
  },
  {
   "cell_type": "code",
   "execution_count": 52,
   "metadata": {},
   "outputs": [
    {
     "data": {
      "text/plain": [
       "['i', 'am', 'good', 'learner']"
      ]
     },
     "execution_count": 52,
     "metadata": {},
     "output_type": "execute_result"
    }
   ],
   "source": [
    "c=\"i-am-good-learner\"\n",
    "c.split(\"-\")"
   ]
  },
  {
   "cell_type": "code",
   "execution_count": 53,
   "metadata": {},
   "outputs": [
    {
     "data": {
      "text/plain": [
       "'h@e@l@l@o@w@o@r@l@d'"
      ]
     },
     "execution_count": 53,
     "metadata": {},
     "output_type": "execute_result"
    }
   ],
   "source": [
    "n='helloworld'\n",
    "n1=\"@\".join(n)\n",
    "n1"
   ]
  },
  {
   "cell_type": "code",
   "execution_count": 64,
   "metadata": {},
   "outputs": [
    {
     "data": {
      "text/plain": [
       "['h', 'e', 'l', 'l', 'o', 'w', 'o', 'r', 'l', 'd']"
      ]
     },
     "execution_count": 64,
     "metadata": {},
     "output_type": "execute_result"
    }
   ],
   "source": [
    "n3=n1.split(\"@\")\n",
    "n3"
   ]
  },
  {
   "cell_type": "code",
   "execution_count": 62,
   "metadata": {},
   "outputs": [
    {
     "name": "stdout",
     "output_type": "stream",
     "text": [
      "helloworld"
     ]
    }
   ],
   "source": [
    "for char in n3:\n",
    "    print(char,end=\"\")"
   ]
  },
  {
   "cell_type": "code",
   "execution_count": 69,
   "metadata": {},
   "outputs": [
    {
     "name": "stdout",
     "output_type": "stream",
     "text": [
      "['cse', 'ece', 'eee', 'it']\n",
      "['4', '3', '2', '1']\n"
     ]
    }
   ],
   "source": [
    "# 2.mystring='cse4ece3eee2it1'\n",
    "#         output:csecsecsecse\n",
    "#                eceeceece\n",
    "#                eeeeee\n",
    "#                 it\n",
    "mystring='cse4ece3eee2it1'\n",
    "branches=[]\n",
    "dig=[]\n",
    "es=''\n",
    "for every_Char in mystring:\n",
    "    if every_Char.isalpha():#geeting alpha char\n",
    "        es=es+every_Char\n",
    "    else:\n",
    "        branches.append(es)#brach names\n",
    "        dig.append(every_Char)#Geeing the Numbers\n",
    "        es=''     #empty string for clearing the priveous string\n",
    "print(branches)\n",
    "print(dig)"
   ]
  },
  {
   "cell_type": "code",
   "execution_count": 70,
   "metadata": {},
   "outputs": [
    {
     "name": "stdout",
     "output_type": "stream",
     "text": [
      "munimunimunimunimuni\n"
     ]
    }
   ],
   "source": [
    "s='muni'\n",
    "print(s*5)"
   ]
  },
  {
   "cell_type": "code",
   "execution_count": 73,
   "metadata": {},
   "outputs": [
    {
     "name": "stdout",
     "output_type": "stream",
     "text": [
      "csecsecsecse\n",
      "eceeceece\n",
      "eeeeee\n",
      "it\n"
     ]
    }
   ],
   "source": [
    "for i in range(len(branches)):\n",
    "    print(branches[i]*int(dig[i]))"
   ]
  },
  {
   "cell_type": "code",
   "execution_count": 74,
   "metadata": {},
   "outputs": [
    {
     "name": "stdout",
     "output_type": "stream",
     "text": [
      "escescescesc\n",
      "eceeceece\n",
      "eeeeee\n",
      "ti\n"
     ]
    }
   ],
   "source": [
    "for i in range(len(branches)):\n",
    "    print(branches[i][::-1]*int(dig[i]))"
   ]
  },
  {
   "cell_type": "markdown",
   "metadata": {},
   "source": [
    "# Multiple inputs from the  User\n"
   ]
  },
  {
   "cell_type": "code",
   "execution_count": 76,
   "metadata": {},
   "outputs": [
    {
     "name": "stdout",
     "output_type": "stream",
     "text": [
      "2\n",
      "3\n",
      "1\n",
      "6\n"
     ]
    }
   ],
   "source": [
    "n1=int(input())\n",
    "n2=int(input())\n",
    "n3=int(input())\n",
    "print(n1+n2+n3)"
   ]
  },
  {
   "cell_type": "code",
   "execution_count": 78,
   "metadata": {},
   "outputs": [
    {
     "name": "stdout",
     "output_type": "stream",
     "text": [
      "2 3 4 5 6 7\n"
     ]
    },
    {
     "data": {
      "text/plain": [
       "27"
      ]
     },
     "execution_count": 78,
     "metadata": {},
     "output_type": "execute_result"
    }
   ],
   "source": [
    "myinput=list(map(int,input().split()))\n",
    "sum(myinput)"
   ]
  },
  {
   "cell_type": "code",
   "execution_count": null,
   "metadata": {},
   "outputs": [],
   "source": []
  }
 ],
 "metadata": {
  "kernelspec": {
   "display_name": "Python 3",
   "language": "python",
   "name": "python3"
  },
  "language_info": {
   "codemirror_mode": {
    "name": "ipython",
    "version": 3
   },
   "file_extension": ".py",
   "mimetype": "text/x-python",
   "name": "python",
   "nbconvert_exporter": "python",
   "pygments_lexer": "ipython3",
   "version": "3.7.3"
  }
 },
 "nbformat": 4,
 "nbformat_minor": 2
}
