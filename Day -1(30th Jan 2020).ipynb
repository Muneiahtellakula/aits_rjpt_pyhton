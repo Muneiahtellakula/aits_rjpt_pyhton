{
 "cells": [
  {
   "cell_type": "markdown",
   "metadata": {},
   "source": [
    "# Literate Programming\n",
    "* It is a combination of both coding and Documentation\n",
    "* Order List \n",
    "    1. AITS\n",
    "        - Cse\n",
    "        - ECE\n",
    "        - IT\n",
    "        <img src='aplogo.jfif'>\n",
    "        - Mech\n",
    "        - Civil\n",
    "    2. CBIT\n",
    "        - CSE\n",
    "        - ECE\n",
    "        - EEE\n",
    "        - Mech\n",
    "    3. KSRM\n",
    "    "
   ]
  },
  {
   "cell_type": "code",
   "execution_count": 3,
   "metadata": {},
   "outputs": [],
   "source": [
    "# Single line Commenting\n"
   ]
  },
  {
   "cell_type": "code",
   "execution_count": 6,
   "metadata": {},
   "outputs": [
    {
     "name": "stdout",
     "output_type": "stream",
     "text": [
      " Hello world .. !\n"
     ]
    }
   ],
   "source": [
    "print(\" Hello world .. !\")"
   ]
  },
  {
   "cell_type": "code",
   "execution_count": 9,
   "metadata": {},
   "outputs": [
    {
     "name": "stdout",
     "output_type": "stream",
     "text": [
      "8\n",
      "<class 'int'>\n",
      "<class 'float'>\n",
      "<class 'str'>\n"
     ]
    }
   ],
   "source": [
    "# Python Variables\n",
    "# int x = 5;\n",
    "# int x = 7;\n",
    "a = 8\n",
    "a\n",
    "print(a)\n",
    "\n",
    "b = 3.6\n",
    "print(type(a))\n",
    "print(type(b))\n",
    "d='apssdc'\n",
    "print(type(d))\n",
    "\n"
   ]
  },
  {
   "cell_type": "code",
   "execution_count": 21,
   "metadata": {},
   "outputs": [
    {
     "name": "stdout",
     "output_type": "stream",
     "text": [
      "5 2\n",
      "addition of a and b is  7\n",
      "Addition of 5 and 2 is  7\n",
      "subtraction of 5 and 2 is  3\n",
      "multiplication of 5 and 2 is  10\n",
      "Divistion of 5 and 2 is  2.5\n",
      "Floor Division of 5 and 2 is  2\n",
      "power  of 5 and 2 is  25\n",
      "modulo  of 5 and 2 is  1\n"
     ]
    }
   ],
   "source": [
    "a=5\n",
    "b=2\n",
    "print(a,b)\n",
    "print(\"addition of a and b is \",a+b)\n",
    "print(\"Addition of\", a ,\"and\", b,\"is \" ,a+b)\n",
    "print(\"subtraction of\", a ,\"and\", b,\"is \" ,a-b)\n",
    "print(\"multiplication of\", a ,\"and\", b,\"is \" ,a*b)\n",
    "print(\"Divistion of\", a ,\"and\", b,\"is \" ,a/b)\n",
    "print(\"Floor Division of\", a ,\"and\", b,\"is \" ,a//b)\n",
    "print(\"power  of\", a ,\"and\", b,\"is \" ,a**b)\n",
    "print(\"modulo  of\", a ,\"and\", b,\"is \" ,a%b)"
   ]
  },
  {
   "cell_type": "code",
   "execution_count": 23,
   "metadata": {},
   "outputs": [
    {
     "name": "stdout",
     "output_type": "stream",
     "text": [
      "['False', 'None', 'True', 'and', 'as', 'assert', 'async', 'await', 'break', 'class', 'continue', 'def', 'del', 'elif', 'else', 'except', 'finally', 'for', 'from', 'global', 'if', 'import', 'in', 'is', 'lambda', 'nonlocal', 'not', 'or', 'pass', 'raise', 'return', 'try', 'while', 'with', 'yield']\n",
      "Total keywords are: 35\n"
     ]
    }
   ],
   "source": [
    "import keyword\n",
    "print(keyword.kwlist)\n",
    "print(\"Total keywords are:\",len(keyword.kwlist))"
   ]
  },
  {
   "cell_type": "code",
   "execution_count": 28,
   "metadata": {},
   "outputs": [
    {
     "name": "stdout",
     "output_type": "stream",
     "text": [
      "Enter the first value :2\n",
      "Enter the second Value :3\n",
      "addition of n1 and n2 is  5\n"
     ]
    }
   ],
   "source": [
    "#Getting input from user \n",
    "\n",
    "n1=int(input(\"Enter the first value :\"))\n",
    "\n",
    "n2=int(input(\"Enter the second Value :\"))\n",
    "\n",
    "print(\"addition of n1 and n2 is \",n1+n2)\n",
    "\n"
   ]
  },
  {
   "cell_type": "code",
   "execution_count": 30,
   "metadata": {},
   "outputs": [
    {
     "name": "stdout",
     "output_type": "stream",
     "text": [
      "Enter the your friend name :lokesh\n",
      "Enter the Greetings :Good Evening\n",
      "hi,lokeshGood Evening\n"
     ]
    }
   ],
   "source": [
    "#Geeting to our friend\n",
    "frind_name=input(\"Enter the your friend name :\")\n",
    "geetings=input(\"Enter the Greetings :\")\n",
    "print(\"hi,\"+frind_name+geetings)"
   ]
  },
  {
   "cell_type": "markdown",
   "metadata": {},
   "source": [
    "# Statements in Python\n",
    "* 3 Tpyes\n",
    "- Condtional statements\n",
    "    - if\n",
    "    - if else\n",
    "    - if elif else\n",
    "    \n",
    "- Control Statements/Iterators/Looping \n",
    "    - For \n",
    "    - While  \n",
    "- Jumppig Statements\n",
    "    - Continoue\n",
    "    - Break\n",
    "    - Pass\n",
    "    - return\n"
   ]
  },
  {
   "cell_type": "code",
   "execution_count": null,
   "metadata": {},
   "outputs": [],
   "source": [
    "# - Condtional statements\n",
    "#     - if\n",
    "#     - if else\n",
    "#     - if elif else\n",
    "#syntax\n",
    "if (condtion):\n",
    "    ...stmts"
   ]
  },
  {
   "cell_type": "code",
   "execution_count": 39,
   "metadata": {},
   "outputs": [],
   "source": [
    "a=7\n",
    "b=2\n",
    "if a<b:\n",
    "    print(\"Yes It is true\")"
   ]
  },
  {
   "cell_type": "code",
   "execution_count": null,
   "metadata": {},
   "outputs": [],
   "source": [
    "# - if else sysntax\n",
    "if condition:\n",
    "    ...stms\n",
    "else:\n",
    "    ...stms"
   ]
  },
  {
   "cell_type": "code",
   "execution_count": 40,
   "metadata": {},
   "outputs": [
    {
     "name": "stdout",
     "output_type": "stream",
     "text": [
      "No, it is false\n"
     ]
    }
   ],
   "source": [
    "if a<b:\n",
    "    print(\"Yes it is true\")\n",
    "else:\n",
    "    print(\"No, it is false\")"
   ]
  },
  {
   "cell_type": "code",
   "execution_count": null,
   "metadata": {},
   "outputs": [],
   "source": [
    "# - if elif else syntax\n",
    "if condition1:\n",
    "    ...stms\n",
    "elif condition2:\n",
    "    ...stms\n",
    "else:\n",
    "    ...stms"
   ]
  },
  {
   "cell_type": "code",
   "execution_count": 49,
   "metadata": {},
   "outputs": [
    {
     "name": "stdout",
     "output_type": "stream",
     "text": [
      "8\n",
      "9\n",
      "15\n",
      "Z is Grater \n"
     ]
    }
   ],
   "source": [
    "# find the Gratest number\n",
    "x=int(input())\n",
    "y=int(input())\n",
    "z=int(input())\n",
    "if x>y and x>z:\n",
    "    print(\"X is grater \")\n",
    "elif y>z:\n",
    "    print(\"Y is Grater \")\n",
    "else:\n",
    "    print(\"Z is Grater \")\n",
    "\n"
   ]
  },
  {
   "cell_type": "code",
   "execution_count": null,
   "metadata": {},
   "outputs": [],
   "source": [
    "# Tasks:\n",
    "# 1. Check given year is Leap year or not\n",
    "   #2020-->leap year\n",
    "    #2019-->non-leap,2001-->non-leap,1900-->non-leap\n",
    "# 2.input n=0\n",
    "#   find the given input is positive or negetive or zero \n",
    "# 3.check the given number is even or odd \n",
    "# 4.input n=28\n",
    "#    if n is below 16 print the \"cool\",if n is between \n",
    "#     16-25 print \"moderate\"if n is above 25-30 print the \n",
    "#     \"Hot\"\n",
    "#     input:n=5\n",
    "#     output:    5 * 1 = 5\n",
    "#                5 * 2 = 10\n",
    "#                5 * 3 = 15..\n",
    "#                 ...\n",
    "#                 5 * 10 = 50"
   ]
  },
  {
   "cell_type": "markdown",
   "metadata": {},
   "source": [
    "# Control Statements \n",
    "* For loop\n",
    "\n",
    "* while \n"
   ]
  },
  {
   "cell_type": "code",
   "execution_count": 54,
   "metadata": {},
   "outputs": [
    {
     "name": "stdout",
     "output_type": "stream",
     "text": [
      "1\n",
      "2\n",
      "3\n",
      "4\n",
      "5\n",
      "6\n",
      "7\n",
      "8\n",
      "9\n",
      "10\n"
     ]
    }
   ],
   "source": [
    "# For loop syntax\n",
    "# Print the first 10 natural number \n",
    "for i in range(1,11):\n",
    "    print(i)"
   ]
  },
  {
   "cell_type": "code",
   "execution_count": 59,
   "metadata": {},
   "outputs": [
    {
     "name": "stdout",
     "output_type": "stream",
     "text": [
      "2 4 6 8 10 "
     ]
    }
   ],
   "source": [
    "for even in range(1,11):\n",
    "    if even%2==0:\n",
    "        print(even,end=\" \")"
   ]
  },
  {
   "cell_type": "code",
   "execution_count": 60,
   "metadata": {},
   "outputs": [
    {
     "name": "stdout",
     "output_type": "stream",
     "text": [
      "0 2 4 6 8 10 12 14 16 18 20 22 24 26 28 30 32 34 36 38 40 42 44 46 48 50 52 54 56 58 60 62 64 66 68 70 72 74 76 78 80 82 84 86 88 90 92 94 96 98 100 "
     ]
    }
   ],
   "source": [
    "#Print the all even numbers from 0 to 100 with out checking condtion\n",
    "for numbers in range(0,101,2):\n",
    "    print(numbers,end=\" \")"
   ]
  },
  {
   "cell_type": "code",
   "execution_count": 61,
   "metadata": {},
   "outputs": [
    {
     "name": "stdout",
     "output_type": "stream",
     "text": [
      "1 3 5 7 9 11 13 15 17 19 21 23 25 27 29 31 33 35 37 39 41 43 45 47 49 51 53 55 57 59 61 63 65 67 69 71 73 75 77 79 81 83 85 87 89 91 93 95 97 99 "
     ]
    }
   ],
   "source": [
    "for numbers in range(1,101,2):\n",
    "    print(numbers,end=\" \")"
   ]
  },
  {
   "cell_type": "code",
   "execution_count": null,
   "metadata": {},
   "outputs": [],
   "source": [
    "# examle Generate Rollnumber\n",
    "# 18701A0401 to 18701A0460\n",
    "\n",
    "# 18701A0401\n",
    "# 18701A0402\n",
    "# 18701A0403\n",
    "# ..\n",
    "# ..\n",
    "# 18701A0460\n",
    "#Multiplication table\n",
    "\n",
    "\n",
    "input:n=5\n",
    "output:    5 * 1 = 5\n",
    "           5 * 2 = 10\n",
    "           5 * 3 = 15..\n",
    "            ...\n",
    "            5 * 10 = 50\n",
    "# n=5\n",
    "# n is factor of 1000 or not\n",
    "\n"
   ]
  },
  {
   "cell_type": "code",
   "execution_count": 66,
   "metadata": {},
   "outputs": [
    {
     "name": "stdout",
     "output_type": "stream",
     "text": [
      "18701A0401\n",
      "18701A0402\n",
      "18701A0403\n",
      "18701A0404\n",
      "18701A0405\n",
      "18701A0406\n",
      "18701A0407\n",
      "18701A0408\n",
      "18701A0410\n",
      "18701A0411\n",
      "18701A0412\n",
      "18701A0413\n",
      "18701A0414\n",
      "18701A0415\n",
      "18701A0416\n",
      "18701A0417\n",
      "18701A0418\n",
      "18701A0420\n",
      "18701A0421\n",
      "18701A0422\n",
      "18701A0423\n",
      "18701A0424\n",
      "18701A0425\n",
      "18701A0426\n",
      "18701A0427\n",
      "18701A0428\n",
      "18701A0429\n",
      "18701A0430\n",
      "18701A0431\n",
      "18701A0432\n",
      "18701A0433\n",
      "18701A0434\n",
      "18701A0435\n",
      "18701A0436\n",
      "18701A0437\n",
      "18701A0438\n",
      "18701A0439\n",
      "18701A0440\n",
      "18701A0441\n",
      "18701A0442\n",
      "18701A0443\n",
      "18701A0444\n",
      "18701A0445\n",
      "18701A0446\n",
      "18701A0447\n",
      "18701A0448\n",
      "18701A0449\n",
      "18701A0450\n",
      "18701A0451\n",
      "18701A0452\n",
      "18701A0453\n",
      "18701A0454\n",
      "18701A0455\n",
      "18701A0456\n",
      "18701A0457\n",
      "18701A0458\n",
      "18701A0459\n",
      "18701A0460\n"
     ]
    }
   ],
   "source": [
    "for rollnumber in range(401,461):\n",
    "    if rollnumber==409 or rollnumber==419:\n",
    "        continue\n",
    "    else:\n",
    "        print(\"18701A0\"+str(rollnumber))"
   ]
  },
  {
   "cell_type": "code",
   "execution_count": null,
   "metadata": {},
   "outputs": [],
   "source": []
  }
 ],
 "metadata": {
  "kernelspec": {
   "display_name": "Python 3",
   "language": "python",
   "name": "python3"
  },
  "language_info": {
   "codemirror_mode": {
    "name": "ipython",
    "version": 3
   },
   "file_extension": ".py",
   "mimetype": "text/x-python",
   "name": "python",
   "nbconvert_exporter": "python",
   "pygments_lexer": "ipython3",
   "version": "3.7.3"
  }
 },
 "nbformat": 4,
 "nbformat_minor": 2
}
